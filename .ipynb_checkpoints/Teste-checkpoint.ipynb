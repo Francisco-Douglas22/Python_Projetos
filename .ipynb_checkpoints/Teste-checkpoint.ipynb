{
 "cells": [
  {
   "cell_type": "code",
   "execution_count": 1,
   "metadata": {},
   "outputs": [],
   "source": [
    "#pip install selenium"
   ]
  },
  {
   "cell_type": "code",
   "execution_count": 11,
   "metadata": {},
   "outputs": [
    {
     "name": "stdout",
     "output_type": "stream",
     "text": [
      "1\n",
      "xakhm\n"
     ]
    }
   ],
   "source": [
    "\n",
    "#gerando palavras aleatorias\n",
    "\n",
    "import random\n",
    "import string\n",
    "from time import sleep\n",
    "\n",
    "# Define a lista vazia\n",
    "lista = []\n",
    "#Selecionando a Palavra aleatoria\n",
    "aleatoria = random.randint(0,5)\n",
    "print(aleatoria)\n",
    "\n",
    "# Define os caracteres que podem ser usados para gerar as palavras\n",
    "caracteres = string.ascii_lowercase\n",
    "\n",
    "# Gera 50 palavras aleatórias de 5 caracteres e adiciona à lista\n",
    "for i in range(5):\n",
    "    palavra = ''.join(random.choice(caracteres) for i in range(5))\n",
    "    lista.append(palavra)\n",
    "\n",
    "# Imprime a lista de palavras\n",
    "print(lista[aleatoria])\n",
    "\n",
    "#Contador\n",
    "contador = 0\n",
    "\n",
    "while contador <= 2:\n",
    "    import os\n",
    "    sleep(0.3)\n",
    "\n",
    "    abri_navegador = os.system('start chrome.exe')\n",
    "    contador += 1\n",
    "    "
   ]
  },
  {
   "cell_type": "code",
   "execution_count": null,
   "metadata": {},
   "outputs": [],
   "source": []
  },
  {
   "cell_type": "code",
   "execution_count": null,
   "metadata": {},
   "outputs": [],
   "source": [
    "import os\n",
    "\n",
    "abri_navegador = os.system('start msedge.exe')"
   ]
  },
  {
   "cell_type": "code",
   "execution_count": null,
   "metadata": {},
   "outputs": [],
   "source": []
  },
  {
   "cell_type": "code",
   "execution_count": null,
   "metadata": {},
   "outputs": [],
   "source": []
  },
  {
   "cell_type": "code",
   "execution_count": null,
   "metadata": {},
   "outputs": [],
   "source": []
  },
  {
   "cell_type": "code",
   "execution_count": 14,
   "metadata": {},
   "outputs": [],
   "source": [
    "#!pip install selenium"
   ]
  },
  {
   "cell_type": "code",
   "execution_count": 15,
   "metadata": {},
   "outputs": [
    {
     "ename": "AttributeError",
     "evalue": "'WebDriver' object has no attribute 'find_element_by_name'",
     "output_type": "error",
     "traceback": [
      "\u001b[1;31m---------------------------------------------------------------------------\u001b[0m",
      "\u001b[1;31mAttributeError\u001b[0m                            Traceback (most recent call last)",
      "Cell \u001b[1;32mIn[15], line 31\u001b[0m\n\u001b[0;32m     28\u001b[0m abri_navegador \u001b[38;5;241m=\u001b[39m os\u001b[38;5;241m.\u001b[39msystem(\u001b[38;5;124m'\u001b[39m\u001b[38;5;124mstart msedge.exe\u001b[39m\u001b[38;5;124m'\u001b[39m)\n\u001b[0;32m     30\u001b[0m \u001b[38;5;66;03m# Encontra a barra de pesquisa\u001b[39;00m\n\u001b[1;32m---> 31\u001b[0m barra_pesquisa \u001b[38;5;241m=\u001b[39m driver\u001b[38;5;241m.\u001b[39mfind_element_by_name(\u001b[38;5;124m'\u001b[39m\u001b[38;5;124mq\u001b[39m\u001b[38;5;124m'\u001b[39m)\n\u001b[0;32m     33\u001b[0m \u001b[38;5;66;03m# Digita a palavra aleatória na barra de pesquisa\u001b[39;00m\n\u001b[0;32m     34\u001b[0m barra_pesquisa\u001b[38;5;241m.\u001b[39msend_keys(palavra_aleatoria)\n",
      "\u001b[1;31mAttributeError\u001b[0m: 'WebDriver' object has no attribute 'find_element_by_name'"
     ]
    }
   ],
   "source": [
    "from selenium import webdriver\n",
    "from selenium.webdriver.common.keys import Keys\n",
    "import random\n",
    "import string\n",
    "import time\n",
    "\n",
    "# Define a lista vazia\n",
    "lista = []\n",
    "\n",
    "# Define os caracteres que podem ser usados para gerar as palavras\n",
    "caracteres = string.ascii_lowercase\n",
    "\n",
    "# Gera 50 palavras aleatórias de 5 caracteres e adiciona à lista\n",
    "for i in range(50):\n",
    "    palavra = ''.join(random.choice(caracteres) for i in range(5))\n",
    "    lista.append(palavra)\n",
    "\n",
    "# Selecionando a Palavra aleatoria\n",
    "aleatoria = random.randint(0,50)\n",
    "palavra_aleatoria = lista[aleatoria]\n",
    "\n",
    "# Inicia o navegador\n",
    "driver = webdriver.Edge()\n",
    "\n",
    "# Abre o Google\n",
    "driver.get('http://www.google.com')\n",
    "import os\n",
    "abri_navegador = os.system('start msedge.exe')\n",
    "\n",
    "# Encontra a barra de pesquisa\n",
    "barra_pesquisa = driver.find_element_by_name('q')\n",
    "\n",
    "# Digita a palavra aleatória na barra de pesquisa\n",
    "barra_pesquisa.send_keys(palavra_aleatoria)\n",
    "\n",
    "# Pressiona ENTER para pesquisar\n",
    "barra_pesquisa.send_keys(Keys.RETURN)\n",
    "\n",
    "# Aguarda alguns segundos para a página de resultados carregar\n",
    "time.sleep(5)\n",
    "\n",
    "# Fecha o navegador\n",
    "driver.quit()\n"
   ]
  },
  {
   "cell_type": "code",
   "execution_count": null,
   "metadata": {},
   "outputs": [],
   "source": []
  },
  {
   "cell_type": "code",
   "execution_count": 20,
   "metadata": {},
   "outputs": [
    {
     "name": "stdout",
     "output_type": "stream",
     "text": [
      "A Palavra Selecionada foi MBLBS\n",
      "A Palavra Selecionada foi LFVWT\n",
      "A Palavra Selecionada foi XDOQF\n",
      "A Palavra Selecionada foi QZALT\n",
      "A Palavra Selecionada foi OWWDE\n"
     ]
    },
    {
     "ename": "NoSuchWindowException",
     "evalue": "Message: no such window: target window already closed\nfrom unknown error: web view not found\n  (Session info: chrome=122.0.6261.112)\nStacktrace:\n\tGetHandleVerifier [0x00007FF6BA7BAD32+56930]\n\t(No symbol) [0x00007FF6BA72F632]\n\t(No symbol) [0x00007FF6BA5E42E5]\n\t(No symbol) [0x00007FF6BA5C1D4C]\n\t(No symbol) [0x00007FF6BA6523F7]\n\t(No symbol) [0x00007FF6BA667891]\n\t(No symbol) [0x00007FF6BA64BA43]\n\t(No symbol) [0x00007FF6BA61D438]\n\t(No symbol) [0x00007FF6BA61E4D1]\n\tGetHandleVerifier [0x00007FF6BAB36ABD+3709933]\n\tGetHandleVerifier [0x00007FF6BAB8FFFD+4075821]\n\tGetHandleVerifier [0x00007FF6BAB8818F+4043455]\n\tGetHandleVerifier [0x00007FF6BA859766+706710]\n\t(No symbol) [0x00007FF6BA73B90F]\n\t(No symbol) [0x00007FF6BA736AF4]\n\t(No symbol) [0x00007FF6BA736C4C]\n\t(No symbol) [0x00007FF6BA726904]\n\tBaseThreadInitThunk [0x00007FFBBF3F257D+29]\n\tRtlUserThreadStart [0x00007FFBC14CAA58+40]\n",
     "output_type": "error",
     "traceback": [
      "\u001b[1;31m---------------------------------------------------------------------------\u001b[0m",
      "\u001b[1;31mNoSuchWindowException\u001b[0m                     Traceback (most recent call last)",
      "Cell \u001b[1;32mIn[20], line 26\u001b[0m\n\u001b[0;32m     22\u001b[0m lista \u001b[38;5;241m=\u001b[39m gerar_lista_palavras_aleatorias()\n\u001b[0;32m     24\u001b[0m \u001b[38;5;28;01mfor\u001b[39;00m palavra_aleatoria \u001b[38;5;129;01min\u001b[39;00m lista:  \u001b[38;5;66;03m# Adiciona um loop para pesquisar cada palavra na lista\u001b[39;00m\n\u001b[0;32m     25\u001b[0m     \u001b[38;5;66;03m# Navega até o Google\u001b[39;00m\n\u001b[1;32m---> 26\u001b[0m     driver\u001b[38;5;241m.\u001b[39mget(\u001b[38;5;124m\"\u001b[39m\u001b[38;5;124mhttps://www.google.com\u001b[39m\u001b[38;5;124m\"\u001b[39m)\n\u001b[0;32m     27\u001b[0m     \u001b[38;5;66;03m#driver.get(\"https://www.bing.com/?FORM=Z9FD1\")\u001b[39;00m\n\u001b[0;32m     29\u001b[0m     \u001b[38;5;28mprint\u001b[39m(\u001b[38;5;124mf\u001b[39m\u001b[38;5;124m'\u001b[39m\u001b[38;5;124mA Palavra Selecionada foi \u001b[39m\u001b[38;5;132;01m{\u001b[39;00mpalavra_aleatoria\u001b[38;5;241m.\u001b[39mupper()\u001b[38;5;132;01m}\u001b[39;00m\u001b[38;5;124m'\u001b[39m)\n",
      "File \u001b[1;32m~\\anaconda3\\Lib\\site-packages\\selenium\\webdriver\\remote\\webdriver.py:356\u001b[0m, in \u001b[0;36mWebDriver.get\u001b[1;34m(self, url)\u001b[0m\n\u001b[0;32m    354\u001b[0m \u001b[38;5;28;01mdef\u001b[39;00m \u001b[38;5;21mget\u001b[39m(\u001b[38;5;28mself\u001b[39m, url: \u001b[38;5;28mstr\u001b[39m) \u001b[38;5;241m-\u001b[39m\u001b[38;5;241m>\u001b[39m \u001b[38;5;28;01mNone\u001b[39;00m:\n\u001b[0;32m    355\u001b[0m \u001b[38;5;250m    \u001b[39m\u001b[38;5;124;03m\"\"\"Loads a web page in the current browser session.\"\"\"\u001b[39;00m\n\u001b[1;32m--> 356\u001b[0m     \u001b[38;5;28mself\u001b[39m\u001b[38;5;241m.\u001b[39mexecute(Command\u001b[38;5;241m.\u001b[39mGET, {\u001b[38;5;124m\"\u001b[39m\u001b[38;5;124murl\u001b[39m\u001b[38;5;124m\"\u001b[39m: url})\n",
      "File \u001b[1;32m~\\anaconda3\\Lib\\site-packages\\selenium\\webdriver\\remote\\webdriver.py:347\u001b[0m, in \u001b[0;36mWebDriver.execute\u001b[1;34m(self, driver_command, params)\u001b[0m\n\u001b[0;32m    345\u001b[0m response \u001b[38;5;241m=\u001b[39m \u001b[38;5;28mself\u001b[39m\u001b[38;5;241m.\u001b[39mcommand_executor\u001b[38;5;241m.\u001b[39mexecute(driver_command, params)\n\u001b[0;32m    346\u001b[0m \u001b[38;5;28;01mif\u001b[39;00m response:\n\u001b[1;32m--> 347\u001b[0m     \u001b[38;5;28mself\u001b[39m\u001b[38;5;241m.\u001b[39merror_handler\u001b[38;5;241m.\u001b[39mcheck_response(response)\n\u001b[0;32m    348\u001b[0m     response[\u001b[38;5;124m\"\u001b[39m\u001b[38;5;124mvalue\u001b[39m\u001b[38;5;124m\"\u001b[39m] \u001b[38;5;241m=\u001b[39m \u001b[38;5;28mself\u001b[39m\u001b[38;5;241m.\u001b[39m_unwrap_value(response\u001b[38;5;241m.\u001b[39mget(\u001b[38;5;124m\"\u001b[39m\u001b[38;5;124mvalue\u001b[39m\u001b[38;5;124m\"\u001b[39m, \u001b[38;5;28;01mNone\u001b[39;00m))\n\u001b[0;32m    349\u001b[0m     \u001b[38;5;28;01mreturn\u001b[39;00m response\n",
      "File \u001b[1;32m~\\anaconda3\\Lib\\site-packages\\selenium\\webdriver\\remote\\errorhandler.py:229\u001b[0m, in \u001b[0;36mErrorHandler.check_response\u001b[1;34m(self, response)\u001b[0m\n\u001b[0;32m    227\u001b[0m         alert_text \u001b[38;5;241m=\u001b[39m value[\u001b[38;5;124m\"\u001b[39m\u001b[38;5;124malert\u001b[39m\u001b[38;5;124m\"\u001b[39m]\u001b[38;5;241m.\u001b[39mget(\u001b[38;5;124m\"\u001b[39m\u001b[38;5;124mtext\u001b[39m\u001b[38;5;124m\"\u001b[39m)\n\u001b[0;32m    228\u001b[0m     \u001b[38;5;28;01mraise\u001b[39;00m exception_class(message, screen, stacktrace, alert_text)  \u001b[38;5;66;03m# type: ignore[call-arg]  # mypy is not smart enough here\u001b[39;00m\n\u001b[1;32m--> 229\u001b[0m \u001b[38;5;28;01mraise\u001b[39;00m exception_class(message, screen, stacktrace)\n",
      "\u001b[1;31mNoSuchWindowException\u001b[0m: Message: no such window: target window already closed\nfrom unknown error: web view not found\n  (Session info: chrome=122.0.6261.112)\nStacktrace:\n\tGetHandleVerifier [0x00007FF6BA7BAD32+56930]\n\t(No symbol) [0x00007FF6BA72F632]\n\t(No symbol) [0x00007FF6BA5E42E5]\n\t(No symbol) [0x00007FF6BA5C1D4C]\n\t(No symbol) [0x00007FF6BA6523F7]\n\t(No symbol) [0x00007FF6BA667891]\n\t(No symbol) [0x00007FF6BA64BA43]\n\t(No symbol) [0x00007FF6BA61D438]\n\t(No symbol) [0x00007FF6BA61E4D1]\n\tGetHandleVerifier [0x00007FF6BAB36ABD+3709933]\n\tGetHandleVerifier [0x00007FF6BAB8FFFD+4075821]\n\tGetHandleVerifier [0x00007FF6BAB8818F+4043455]\n\tGetHandleVerifier [0x00007FF6BA859766+706710]\n\t(No symbol) [0x00007FF6BA73B90F]\n\t(No symbol) [0x00007FF6BA736AF4]\n\t(No symbol) [0x00007FF6BA736C4C]\n\t(No symbol) [0x00007FF6BA726904]\n\tBaseThreadInitThunk [0x00007FFBBF3F257D+29]\n\tRtlUserThreadStart [0x00007FFBC14CAA58+40]\n"
     ]
    }
   ],
   "source": [
    "# Importa as bibliotecas necessárias\n",
    "from selenium import webdriver\n",
    "from selenium.webdriver.common.by import By\n",
    "from selenium.webdriver.support.ui import WebDriverWait\n",
    "from selenium.webdriver.support import expected_conditions as EC\n",
    "import random\n",
    "import string\n",
    "import time  # Importa a biblioteca time\n",
    "\n",
    "def gerar_palavra_aleatoria(tamanho=5, caracteres=string.ascii_lowercase):\n",
    "    \"\"\"Gera uma palavra aleatória de um determinado tamanho.\"\"\"\n",
    "    return ''.join(random.choice(caracteres) for _ in range(tamanho))\n",
    "\n",
    "def gerar_lista_palavras_aleatorias(n=10):\n",
    "    \"\"\"Gera uma lista de palavras aleatórias.\"\"\"\n",
    "    return [gerar_palavra_aleatoria() for _ in range(n)]\n",
    "\n",
    "# Inicializa o navegador\n",
    "driver = webdriver.Chrome()\n",
    "\n",
    "# Gera a lista de palavras aleatórias\n",
    "lista = gerar_lista_palavras_aleatorias()\n",
    "\n",
    "for palavra_aleatoria in lista:  # Adiciona um loop para pesquisar cada palavra na lista\n",
    "    # Navega até o Google\n",
    "    driver.get(\"https://www.google.com\")\n",
    "    #driver.get(\"https://www.bing.com/?FORM=Z9FD1\")\n",
    "\n",
    "    print(f'A Palavra Selecionada foi {palavra_aleatoria.upper()}')\n",
    "\n",
    "    # Encontra a barra de pesquisa e digita a palavra-chave\n",
    "    search_box = WebDriverWait(driver, 10).until(EC.element_to_be_clickable((By.NAME, \"q\")))\n",
    "    search_box.send_keys(palavra_aleatoria)\n",
    "\n",
    "    # Encontra o botão de pesquisa e clica nele\n",
    "    search_button = WebDriverWait(driver, 10).until(EC.element_to_be_clickable((By.NAME, \"btnK\")))\n",
    "    search_button.click()\n",
    "\n",
    "    time.sleep(5)  # Adiciona um intervalo de 5 segundos antes da próxima pesquisa\n",
    "\n",
    "\n"
   ]
  },
  {
   "cell_type": "code",
   "execution_count": null,
   "metadata": {},
   "outputs": [],
   "source": []
  },
  {
   "cell_type": "code",
   "execution_count": null,
   "metadata": {},
   "outputs": [],
   "source": []
  }
 ],
 "metadata": {
  "kernelspec": {
   "display_name": "Python 3 (ipykernel)",
   "language": "python",
   "name": "python3"
  },
  "language_info": {
   "codemirror_mode": {
    "name": "ipython",
    "version": 3
   },
   "file_extension": ".py",
   "mimetype": "text/x-python",
   "name": "python",
   "nbconvert_exporter": "python",
   "pygments_lexer": "ipython3",
   "version": "3.11.7"
  }
 },
 "nbformat": 4,
 "nbformat_minor": 4
}
